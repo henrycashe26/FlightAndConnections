{
 "cells": [
  {
   "cell_type": "code",
   "execution_count": 3,
   "id": "7f9f117a",
   "metadata": {},
   "outputs": [
    {
     "name": "stderr",
     "output_type": "stream",
     "text": [
      "C:\\Users\\yummy\\AppData\\Local\\Temp\\ipykernel_8616\\1511169924.py:10: DtypeWarning: Columns (1,2,3,4,5,6,7,9,10,11,16,17,18,19,20,21,22,23,24,25,26,27,49) have mixed types. Specify dtype option on import or set low_memory=False.\n",
      "  df = pd.read_csv(\"UPDATEDitineries-airportCodes3Only1Connection.csv\")\n"
     ]
    },
    {
     "name": "stdout",
     "output_type": "stream",
     "text": [
      "0.2594019445973216\n"
     ]
    },
    {
     "name": "stderr",
     "output_type": "stream",
     "text": [
      "C:\\ProgramData\\Anaconda3\\lib\\site-packages\\sklearn\\neighbors\\_classification.py:228: FutureWarning: Unlike other reduction functions (e.g. `skew`, `kurtosis`), the default behavior of `mode` typically preserves the axis it acts along. In SciPy 1.11.0, this behavior will change: the default value of `keepdims` will become False, the `axis` over which the statistic is taken will be eliminated, and the value None will no longer be accepted. Set `keepdims` to True or False to avoid this warning.\n",
      "  mode, _ = stats.mode(_y[neigh_ind, k], axis=1)\n"
     ]
    }
   ],
   "source": [
    "import pandas as pd\n",
    "import numpy as np\n",
    "import matplotlib.pyplot as plt\n",
    "from sklearn.neighbors import KNeighborsClassifier\n",
    "from sklearn.model_selection import train_test_split\n",
    "from sklearn.preprocessing import LabelEncoder\n",
    "from sklearn.metrics import accuracy_score\n",
    "\n",
    "# Load data\n",
    "df = pd.read_csv(\"UPDATEDitineries-airportCodes3Only1Connection.csv\")\n",
    "df.dropna(how='any', inplace=True)\n",
    "\n",
    "# Split data into features and target\n",
    "X = df.drop(['destinationCoordinates1',\n",
    "       'destinationCoordinates2', 'destinationCoordinates3',\n",
    "       'destinationCoordinates4', 'destinationCoordinates5',\n",
    "       'destinationCoordinates6'], axis = 1).copy() # Drop columns that contain coordinates for destination\n",
    "X = X.select_dtypes(include='number') #Remove non-numeric columns from feature df\n",
    "y = df['destinationAirport'].copy()  # Target column, which is the airport id strings\n",
    "\n",
    "# Encode the target categories\n",
    "le = LabelEncoder()\n",
    "y = le.fit_transform(y)\n",
    "\n",
    "# Split the data into training and testing sets\n",
    "X_train, X_test, y_train, y_test = train_test_split(X, y, test_size=0.2, random_state=42)\n",
    "\n",
    "# Fit the k-nearest neighbors model\n",
    "knn = KNeighborsClassifier(n_neighbors=5)\n",
    "knn.fit(X_train, y_train)\n",
    "\n",
    "# Make predictions on the test set\n",
    "prediction = knn.predict(X_test)\n",
    "accuracy = accuracy_score(prediction, y_test)\n",
    "print(accuracy)"
   ]
  },
  {
   "cell_type": "code",
   "execution_count": null,
   "id": "b6d6928d",
   "metadata": {},
   "outputs": [],
   "source": []
  }
 ],
 "metadata": {
  "kernelspec": {
   "display_name": "Python 3 (ipykernel)",
   "language": "python",
   "name": "python3"
  },
  "language_info": {
   "codemirror_mode": {
    "name": "ipython",
    "version": 3
   },
   "file_extension": ".py",
   "mimetype": "text/x-python",
   "name": "python",
   "nbconvert_exporter": "python",
   "pygments_lexer": "ipython3",
   "version": "3.9.13"
  }
 },
 "nbformat": 4,
 "nbformat_minor": 5
}
